{
 "cells": [
  {
   "cell_type": "markdown",
   "metadata": {},
   "source": [
    "<i> io ho già installato la libreria ma per installarla sulla vostra macchina vi basta elimnare # dalla riga di sotto </i>"
   ]
  },
  {
   "cell_type": "code",
   "execution_count": 1,
   "metadata": {},
   "outputs": [],
   "source": [
    "#! pip install gradio"
   ]
  },
  {
   "cell_type": "markdown",
   "metadata": {},
   "source": [
    "#### Importiamo le librerie"
   ]
  },
  {
   "cell_type": "code",
   "execution_count": 2,
   "metadata": {},
   "outputs": [],
   "source": [
    "from tensorflow.keras.models import load_model\n",
    "\n",
    "from gradio import Interface\n",
    "from gradio.inputs import Image\n",
    "from gradio.outputs import Label"
   ]
  },
  {
   "cell_type": "markdown",
   "metadata": {},
   "source": [
    "#### Carico il modello allenato della rete neurale precedentemente"
   ]
  },
  {
   "cell_type": "code",
   "execution_count": 3,
   "metadata": {},
   "outputs": [],
   "source": [
    "model=load_model(filepath='models/model.h5')"
   ]
  },
  {
   "cell_type": "markdown",
   "metadata": {},
   "source": [
    "#### Creo le funzioni per fare le previsioni \n",
    "* con <i>'pre_process'</i> noi normalizziamo e diamo una dimensione diversa al dataset\n",
    "* con <i>'get_predictions'</i> non facciamo le predizioni sulla base del modello allenato"
   ]
  },
  {
   "cell_type": "code",
   "execution_count": 4,
   "metadata": {},
   "outputs": [],
   "source": [
    "def pre_process(X):\n",
    "    X=X/X.max() \n",
    "    return X.reshape(-1,28,28,1) "
   ]
  },
  {
   "cell_type": "code",
   "execution_count": 5,
   "metadata": {},
   "outputs": [],
   "source": [
    "def get_predictions(X):\n",
    "    X=pre_process(X)\n",
    "    y_pred=model.predict(X).tolist()[0]\n",
    "    return {str(i): y_pred[i] for i in range(10)}"
   ]
  },
  {
   "cell_type": "markdown",
   "metadata": {},
   "source": [
    "#### Ora creo l'interfaccia e il resto della nostra app web\n",
    "* con <i>'image'</i> creiamo il riquadro sulla sinistra, cioè la lavagno in cui scrivere i nuemri,\n",
    "* con <i>'label'</i> creiamo il riquadro sulla destra, quello in cui appariranno le predizioni del modello e i primi e tre numeri più probaili,\n",
    "* con <i> 'interface'</i> creiamo l'interfaccia vera e proprio in cui andremo a mettere, la funzione di predizioni, cosa prendere in input, cosa restituire in output, il titolo della nostra web app e infine una breve descrizione di cosa fa l'app.\n",
    "\n",
    "P.S. in <i>'interface.launch()'</i> abbiamo settato il parametro <i>'share=True'</i> in modo tale da avere un sito condivisibile a tutti e non che funzioni solo in locale.\n",
    "\n",
    "N.B. quando chiuderai il notebook si fermerà anche il sito che diventerà Irraggiungibile.  "
   ]
  },
  {
   "cell_type": "code",
   "execution_count": 6,
   "metadata": {},
   "outputs": [
    {
     "name": "stdout",
     "output_type": "stream",
     "text": [
      "Running locally at: http://127.0.0.1:7860/\n",
      "This share link will expire in 24 hours. If you need a permanent link, visit: https://gradio.app/introducing-hosted (NEW!)\n",
      "Running on External URL: https://43184.gradio.app\n",
      "Interface loading below...\n"
     ]
    },
    {
     "data": {
      "text/html": [
       "\n",
       "        <iframe\n",
       "            width=\"900\"\n",
       "            height=\"500\"\n",
       "            src=\"https://43184.gradio.app\"\n",
       "            frameborder=\"0\"\n",
       "            allowfullscreen\n",
       "        ></iframe>\n",
       "        "
      ],
      "text/plain": [
       "<IPython.lib.display.IFrame at 0x1bfd528e910>"
      ]
     },
     "metadata": {},
     "output_type": "display_data"
    },
    {
     "data": {
      "text/plain": [
       "(<Flask 'gradio.networking'>,\n",
       " 'http://127.0.0.1:7860/',\n",
       " 'https://43184.gradio.app')"
      ]
     },
     "execution_count": 6,
     "metadata": {},
     "output_type": "execute_result"
    }
   ],
   "source": [
    "image=Image(shape=(28,28),image_mode='L',label='SCRIVI QUI IL TUO NUMERO',source='canvas',invert_colors=True)\n",
    "\n",
    "label=Label(num_top_classes=3,label='PREDIZIONI DEL MODELLO')\n",
    "\n",
    "interface=Interface(fn=get_predictions,\n",
    "                    inputs=image,\n",
    "                    outputs=label,\n",
    "                    title='CLASSIFICATORE DI NUMERI😀🎱🖥️',\n",
    "                    #theme='huggingface',\n",
    "                    description='Tu scrivi un numero sulla lavagna da 0️⃣ a 9️⃣, io ti dico quanto ci becca una inteligenza artificiale (AI), facile no?😉'\n",
    "                   )\n",
    "interface.launch(share=True)"
   ]
  }
 ],
 "metadata": {
  "kernelspec": {
   "display_name": "Python 3",
   "language": "python",
   "name": "python3"
  },
  "language_info": {
   "codemirror_mode": {
    "name": "ipython",
    "version": 3
   },
   "file_extension": ".py",
   "mimetype": "text/x-python",
   "name": "python",
   "nbconvert_exporter": "python",
   "pygments_lexer": "ipython3",
   "version": "3.8.5"
  }
 },
 "nbformat": 4,
 "nbformat_minor": 4
}
